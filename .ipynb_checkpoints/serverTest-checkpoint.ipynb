{
 "cells": [
  {
   "cell_type": "code",
   "execution_count": null,
   "id": "cac1702b",
   "metadata": {},
   "outputs": [],
   "source": [
    "!pip install Flask"
   ]
  },
  {
   "cell_type": "code",
   "execution_count": 3,
   "id": "f7109680",
   "metadata": {},
   "outputs": [
    {
     "name": "stdout",
     "output_type": "stream",
     "text": [
      " * Serving Flask app '__main__'\n",
      " * Debug mode: on\n"
     ]
    },
    {
     "name": "stderr",
     "output_type": "stream",
     "text": [
      "WARNING: This is a development server. Do not use it in a production deployment. Use a production WSGI server instead.\n",
      " * Running on http://127.0.0.1:5000\n",
      "Press CTRL+C to quit\n",
      " * Restarting with stat\n"
     ]
    },
    {
     "ename": "SystemExit",
     "evalue": "1",
     "output_type": "error",
     "traceback": [
      "An exception has occurred, use %tb to see the full traceback.\n",
      "\u001b[1;31mSystemExit\u001b[0m\u001b[1;31m:\u001b[0m 1\n"
     ]
    },
    {
     "name": "stderr",
     "output_type": "stream",
     "text": [
      "c:\\Users\\SMHRD\\anaconda3\\envs\\yolov8\\lib\\site-packages\\IPython\\core\\interactiveshell.py:3516: UserWarning: To exit: use 'exit', 'quit', or Ctrl-D.\n",
      "  warn(\"To exit: use 'exit', 'quit', or Ctrl-D.\", stacklevel=1)\n"
     ]
    }
   ],
   "source": [
    "from flask import Flask,request, Response, send_file\n",
    "app = Flask(__name__)\n",
    "@app.route('/')\n",
    "def home() :\n",
    "    return 'Hello, World'\n",
    "\n",
    "if __name__ == '__main__':\n",
    "    app.run()"
   ]
  },
  {
   "cell_type": "code",
   "execution_count": 2,
   "id": "2910e457",
   "metadata": {
    "scrolled": true
   },
   "outputs": [
    {
     "name": "stdout",
     "output_type": "stream",
     "text": [
      "Collecting cx_Oracle\n",
      "  Downloading cx_Oracle-8.3.0-cp39-cp39-win_amd64.whl (213 kB)\n",
      "     -------------------------------------- 213.2/213.2 kB 6.5 MB/s eta 0:00:00\n",
      "Installing collected packages: cx_Oracle\n",
      "Successfully installed cx_Oracle-8.3.0\n"
     ]
    }
   ],
   "source": [
    "!pip install cx_Oracle --upgrade"
   ]
  },
  {
   "cell_type": "code",
   "execution_count": 4,
   "id": "cbc2cff4",
   "metadata": {},
   "outputs": [
    {
     "name": "stdout",
     "output_type": "stream",
     "text": [
      "Collecting oracledb\n",
      "  Downloading oracledb-1.3.1-cp39-cp39-win_amd64.whl (1.2 MB)\n",
      "     ---------------------------------------- 1.2/1.2 MB 10.6 MB/s eta 0:00:00\n",
      "Requirement already satisfied: cryptography>=3.2.1 in c:\\users\\smhrd\\anaconda3\\lib\\site-packages (from oracledb) (37.0.1)\n",
      "Requirement already satisfied: cffi>=1.12 in c:\\users\\smhrd\\anaconda3\\lib\\site-packages (from cryptography>=3.2.1->oracledb) (1.15.1)\n",
      "Requirement already satisfied: pycparser in c:\\users\\smhrd\\anaconda3\\lib\\site-packages (from cffi>=1.12->cryptography>=3.2.1->oracledb) (2.21)\n",
      "Installing collected packages: oracledb\n",
      "Successfully installed oracledb-1.3.1\n"
     ]
    }
   ],
   "source": [
    "!pip install oracledb --upgrade"
   ]
  },
  {
   "cell_type": "code",
   "execution_count": 8,
   "id": "32ad9c61",
   "metadata": {},
   "outputs": [],
   "source": [
    "import cx_Oracle as cx\n",
    "con = cx.connect(\"campus_c_230531_3\",\"smhrd3\",\"project-db-stu.smhrd.com:1524/XE\",encoding=\"UTF-8\")"
   ]
  },
  {
   "cell_type": "code",
   "execution_count": 9,
   "id": "b2b18398",
   "metadata": {},
   "outputs": [],
   "source": [
    "cursor = con.cursor()"
   ]
  },
  {
   "cell_type": "code",
   "execution_count": 10,
   "id": "8892c33a",
   "metadata": {},
   "outputs": [
    {
     "ename": "DatabaseError",
     "evalue": "ORA-00942: table or view does not exist",
     "output_type": "error",
     "traceback": [
      "\u001b[1;31m---------------------------------------------------------------------------\u001b[0m",
      "\u001b[1;31mDatabaseError\u001b[0m                             Traceback (most recent call last)",
      "\u001b[1;32m~\\AppData\\Local\\Temp\\ipykernel_22472\\2074059914.py\u001b[0m in \u001b[0;36m<module>\u001b[1;34m\u001b[0m\n\u001b[0;32m      3\u001b[0m \u001b[1;31m#####################################################################################################\u001b[0m\u001b[1;33m\u001b[0m\u001b[1;33m\u001b[0m\u001b[0m\n\u001b[0;32m      4\u001b[0m \u001b[0min_data\u001b[0m \u001b[1;33m=\u001b[0m \u001b[1;34m\"Hello World~ 안녕 오라클-파이썬\"\u001b[0m\u001b[1;33m\u001b[0m\u001b[1;33m\u001b[0m\u001b[0m\n\u001b[1;32m----> 5\u001b[1;33m \u001b[0mcursor\u001b[0m\u001b[1;33m.\u001b[0m\u001b[0mexecute\u001b[0m\u001b[1;33m(\u001b[0m\u001b[1;34m\"insert into TEST_TBL (aa) values (:1)\"\u001b[0m\u001b[1;33m,\u001b[0m \u001b[1;33m[\u001b[0m\u001b[0min_data\u001b[0m\u001b[1;33m]\u001b[0m\u001b[1;33m)\u001b[0m\u001b[1;33m\u001b[0m\u001b[1;33m\u001b[0m\u001b[0m\n\u001b[0m\u001b[0;32m      6\u001b[0m \u001b[0mcon\u001b[0m\u001b[1;33m.\u001b[0m\u001b[0mcommit\u001b[0m\u001b[1;33m(\u001b[0m\u001b[1;33m)\u001b[0m\u001b[1;33m\u001b[0m\u001b[1;33m\u001b[0m\u001b[0m\n\u001b[0;32m      7\u001b[0m \u001b[1;33m\u001b[0m\u001b[0m\n",
      "\u001b[1;31mDatabaseError\u001b[0m: ORA-00942: table or view does not exist"
     ]
    }
   ],
   "source": [
    "#####################################################################################################\n",
    "# Insert (Write to DB)\n",
    "#####################################################################################################\n",
    "in_data = \"Hello World~ 안녕 오라클-파이썬\"\n",
    "cursor.execute(\"insert into TEST_TBL (aa) values (:1)\", [in_data])\n",
    "con.commit()\n",
    " \n",
    " \n",
    "\n",
    "\n",
    "cursor.execute(\"select aa from TEST_TBL\")\n",
    "out_data = cursor.fetchone()\n",
    "print(\"=====>\", out_data[0])\n",
    " \n",
    "con.close()"
   ]
  },
  {
   "cell_type": "code",
   "execution_count": null,
   "id": "571bd8da",
   "metadata": {},
   "outputs": [],
   "source": []
  }
 ],
 "metadata": {
  "kernelspec": {
   "display_name": "Python 3 (ipykernel)",
   "language": "python",
   "name": "python3"
  },
  "language_info": {
   "codemirror_mode": {
    "name": "ipython",
    "version": 3
   },
   "file_extension": ".py",
   "mimetype": "text/x-python",
   "name": "python",
   "nbconvert_exporter": "python",
   "pygments_lexer": "ipython3",
   "version": "3.9.13"
  }
 },
 "nbformat": 4,
 "nbformat_minor": 5
}
